{
 "cells": [
  {
   "cell_type": "code",
   "execution_count": 1,
   "metadata": {},
   "outputs": [
    {
     "name": "stdout",
     "output_type": "stream",
     "text": [
      "| 0 | 65 | 4 | 65 | 0 |\n",
      "| 0 |a11 | 0 |b11 | 0 |\n",
      "| 26 | 0 | 0 | 0 | 26 |\n",
      "| 0 |c11 | 0 |d11 | 0 |\n",
      "| 0 | 65 | 4 | 65 | 0 |\n",
      "\n"
     ]
    }
   ],
   "source": [
    "import random\n",
    "\n",
    "from kaggle_environments import make\n",
    "from kaggle_environments.envs.halite.helpers import *\n",
    "\n",
    "import wrapper.helpers as helpers\n",
    "\n",
    "environment = make(\"halite\", {\"randomSeed\": 2, \"size\": 5})\n",
    "agent_count = 4\n",
    "state = environment.reset(agent_count)\n",
    "board = Board(state[0].observation, environment.configuration)\n",
    "\n",
    "print(board)"
   ]
  },
  {
   "cell_type": "code",
   "execution_count": 2,
   "metadata": {},
   "outputs": [
    {
     "name": "stdout",
     "output_type": "stream",
     "text": [
      "| 0 | 9 | 4 | 9 | 0 |\n",
      "| 0 |a8 |b0 | 9 | 0 |\n",
      "| 9 | 0 | 0 | 0 | 9 |\n",
      "| 0 |c8 |d0 | 9 | 0 |\n",
      "| 0 | 9 | 4 | 9 | 0 |\n",
      "\n",
      "| 0 | 9 | 4 | 9 | 0 |\n",
      "| 0 |a6 |b0 | 9 | 0 |\n",
      "| 9 | 0 | 0 | 0 | 9 |\n",
      "| 0 | 0C| 0 | 9 | 0 |\n",
      "| 0 | 9 |d4 | 9 | 0 |\n",
      "\n",
      "| 0 | 9 | 4 | 9 | 0 |\n",
      "| 0 |a4 | 0B| 9 | 0 |\n",
      "| 9 | 0 | 0 | 0 | 9 |\n",
      "| 0 | 0C| 0 | 9 | 0 |\n",
      "| 0 | 9 | 0D| 9 | 0 |\n",
      "\n",
      "| 0 | 9 | 4 | 9 | 0 |\n",
      "| 0 |a3 | 0B| 9 | 0 |\n",
      "| 9 | 0 | 0 | 0 | 9 |\n",
      "| 0 |c0C| 0 | 9 | 0 |\n",
      "| 0 | 9 |d0D| 9 | 0 |\n",
      "\n",
      "| 0 | 9 | 4 | 9 | 0 |\n",
      "| 0 |a2 | 0B| 9 | 0 |\n",
      "| 9 | 0 | 0 | 0 | 9 |\n",
      "|c0 | 0C| 0 | 9 | 0 |\n",
      "| 0 |d9 | 0D| 9 | 0 |\n",
      "\n",
      "| 0 | 9 | 4 | 9 | 0 |\n",
      "| 0 |a2 |b0B| 9 | 0 |\n",
      "| 9 | 0 | 0 | 0 | 9 |\n",
      "| 0C|c0C| 0 | 9 | 0 |\n",
      "| 0 | 9 | 0D| 9 | 0 |\n",
      "\n",
      "| 0 | 9 |b4 | 9 | 0 |\n",
      "| 0 |a1 |b0B| 9 | 0 |\n",
      "| 9 | 0 | 0 | 0 | 9 |\n",
      "|c0C|c0C| 0 | 9 | 0 |\n",
      "| 0 |c9 | 0D| 9 | 0 |\n",
      "\n",
      "| 0 | 9 | 0B| 9 | 0 |\n",
      "| 0 |a1 | 0B| 9 | 0 |\n",
      "| 9 | 0 | 0 | 0 | 9 |\n",
      "| 0C| 0C| 0 | 9 | 0 |\n",
      "|c0 | 9 | 0D| 9 | 0 |\n",
      "\n",
      "| 0 | 9 |b0B| 9 | 0 |\n",
      "| 0 |a0 | 0B| 9 | 0 |\n",
      "| 9 | 0 | 0 | 0 | 9 |\n",
      "|c0C| 0C| 0 | 9 | 0 |\n",
      "| 0 | 9 | 0D| 9 |c0 |\n",
      "\n",
      "| 0 | 9 | 0B| 9 | 0 |\n",
      "| 0 |a0 |b0B| 9 | 0 |\n",
      "| 9 | 0 | 0 | 0 | 9 |\n",
      "| 0C| 0C| 0 | 9 |c0 |\n",
      "| 0 | 9 | 0D| 9 |c0 |\n",
      "\n"
     ]
    }
   ],
   "source": [
    "for ts in range(10):\n",
    "    for agent_id in range(1, agent_count + 1):\n",
    "        for ship in helpers.get_ship_list(board, agent_id):\n",
    "            ship.next_action = random.choice(helpers.ship_actions())\n",
    "        for shipyard in helpers.get_shipyard_list(board, agent_id):\n",
    "            shipyard.next_action = random.choice(helpers.shipyard_actions())\n",
    "\n",
    "    board = board.next()\n",
    "    print(board)\n",
    "    "
   ]
  }
 ],
 "metadata": {
  "kernelspec": {
   "display_name": "Python 3",
   "language": "python",
   "name": "python3"
  },
  "language_info": {
   "codemirror_mode": {
    "name": "ipython",
    "version": 3
   },
   "file_extension": ".py",
   "mimetype": "text/x-python",
   "name": "python",
   "nbconvert_exporter": "python",
   "pygments_lexer": "ipython3",
   "version": "3.7.7"
  }
 },
 "nbformat": 4,
 "nbformat_minor": 4
}
