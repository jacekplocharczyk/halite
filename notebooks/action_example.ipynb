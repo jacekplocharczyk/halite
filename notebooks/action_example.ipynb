{
 "cells": [
  {
   "cell_type": "code",
   "execution_count": 1,
   "metadata": {},
   "outputs": [
    {
     "name": "stdout",
     "output_type": "stream",
     "text": [
      "| 0 | 65 | 4 | 65 | 0 |\n",
      "| 0 |a11 | 0 |b11 | 0 |\n",
      "| 26 | 0 | 0 | 0 | 26 |\n",
      "| 0 |c11 | 0 |d11 | 0 |\n",
      "| 0 | 65 | 4 | 65 | 0 |\n",
      "\n"
     ]
    }
   ],
   "source": [
    "from kaggle_environments import make\n",
    "from kaggle_environments.envs.halite.helpers import *\n",
    "\n",
    "environment = make(\"halite\", {\"randomSeed\": 2, \"size\": 5})\n",
    "agent_count = 4\n",
    "state = environment.reset(agent_count)\n",
    "board = Board(state[0].observation, environment.configuration)\n",
    "print(board)"
   ]
  },
  {
   "cell_type": "code",
   "execution_count": 2,
   "metadata": {},
   "outputs": [
    {
     "name": "stdout",
     "output_type": "stream",
     "text": [
      "| 0 | 9 | 4 | 9 | 0 |\n",
      "| 0 | 0A| 0 |b8 | 0 |\n",
      "| 9 | 0 | 0 | 0 | 9 |\n",
      "| 0 |c8 | 0 |d8 | 0 |\n",
      "| 0 | 9 | 4 | 9 | 0 |\n",
      "\n"
     ]
    }
   ],
   "source": [
    "board.ships['0-1'].next_action = ShipAction.CONVERT\n",
    "board = board.next()\n",
    "print(board)"
   ]
  },
  {
   "cell_type": "code",
   "execution_count": 3,
   "metadata": {},
   "outputs": [
    {
     "name": "stdout",
     "output_type": "stream",
     "text": [
      "| 0 | 9 | 4 | 9 | 0 |\n",
      "| 0 |a0A| 0 |b6 | 0 |\n",
      "| 9 | 0 | 0 | 0 | 9 |\n",
      "| 0 |c6 | 0 |d6 | 0 |\n",
      "| 0 | 9 | 4 | 9 | 0 |\n",
      "\n"
     ]
    }
   ],
   "source": [
    "board.shipyards['1-1'].next_action=ShipyardAction.SPAWN\n",
    "board = board.next()\n",
    "print(board)"
   ]
  },
  {
   "cell_type": "code",
   "execution_count": 4,
   "metadata": {},
   "outputs": [
    {
     "name": "stdout",
     "output_type": "stream",
     "text": [
      "| 0 |a9 | 4 | 9 | 0 |\n",
      "| 0 | 0A| 0 |b4 | 0 |\n",
      "| 9 | 0 | 0 | 0 | 9 |\n",
      "| 0 |c4 | 0 |d4 | 0 |\n",
      "| 0 | 9 | 4 | 9 | 0 |\n",
      "\n"
     ]
    }
   ],
   "source": [
    "board.ships['2-1'].next_action = ShipAction.NORTH\n",
    "\n",
    "board = board.next()\n",
    "print(board)"
   ]
  },
  {
   "cell_type": "code",
   "execution_count": 5,
   "metadata": {},
   "outputs": [
    {
     "name": "stdout",
     "output_type": "stream",
     "text": [
      "| 0 |a6 | 4 | 9 | 0 |\n",
      "| 0 | 0A| 0 |b3 | 0 |\n",
      "| 9 | 0 | 0 | 0 | 9 |\n",
      "| 0 |c3 | 0 |d3 | 0 |\n",
      "| 0 | 9 | 4 | 9 | 0 |\n",
      "\n"
     ]
    }
   ],
   "source": [
    "board.ships['2-1'].next_action = None\n",
    "\n",
    "board = board.next()\n",
    "print(board)"
   ]
  },
  {
   "cell_type": "code",
   "execution_count": 16,
   "metadata": {},
   "outputs": [
    {
     "data": {
      "text/plain": [
       "{'halite': [0.0,\n",
       "  375,\n",
       "  246.794,\n",
       "  500,\n",
       "  0.0,\n",
       "  0.0,\n",
       "  0.0,\n",
       "  0.0,\n",
       "  199,\n",
       "  0.0,\n",
       "  500,\n",
       "  35.72,\n",
       "  6.494,\n",
       "  35.72,\n",
       "  500,\n",
       "  0.0,\n",
       "  199,\n",
       "  0.0,\n",
       "  199,\n",
       "  0.0,\n",
       "  0.0,\n",
       "  500,\n",
       "  246.794,\n",
       "  500,\n",
       "  0.0],\n",
       " 'players': [[4000, {'1-1': 6}, {'2-1': [1, 125]}],\n",
       "  [5000, {}, {'0-2': [8, 427]}],\n",
       "  [5000, {}, {'0-3': [16, 427]}],\n",
       "  [5000, {}, {'0-4': [18, 427]}]],\n",
       " 'player': 0,\n",
       " 'step': 4}"
      ]
     },
     "execution_count": 16,
     "metadata": {},
     "output_type": "execute_result"
    }
   ],
   "source": [
    "board.observation"
   ]
  },
  {
   "cell_type": "code",
   "execution_count": null,
   "metadata": {},
   "outputs": [],
   "source": []
  },
  {
   "cell_type": "code",
   "execution_count": null,
   "metadata": {},
   "outputs": [],
   "source": []
  }
 ],
 "metadata": {
  "kernelspec": {
   "display_name": "Python 3",
   "language": "python",
   "name": "python3"
  },
  "language_info": {
   "codemirror_mode": {
    "name": "ipython",
    "version": 3
   },
   "file_extension": ".py",
   "mimetype": "text/x-python",
   "name": "python",
   "nbconvert_exporter": "python",
   "pygments_lexer": "ipython3",
   "version": "3.7.7"
  }
 },
 "nbformat": 4,
 "nbformat_minor": 4
}
